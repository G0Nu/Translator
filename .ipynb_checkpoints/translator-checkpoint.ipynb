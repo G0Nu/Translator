{
 "cells": [
  {
   "cell_type": "code",
   "execution_count": 31,
   "metadata": {},
   "outputs": [],
   "source": [
    "import pandas as pd\n",
    "from sklearn.model_selection import train_test_split\n",
    "from sklearn.ensemble import RandomForestClassifier\n",
    "from sklearn.metrics import accuracy_score\n"
   ]
  },
  {
   "cell_type": "code",
   "execution_count": 33,
   "metadata": {},
   "outputs": [
    {
     "name": "stdout",
     "output_type": "stream",
     "text": [
      "   _beagle_  _bible  _essex  _for  _fram_  _myths  _nature  _philadelphia_  \\\n",
      "0         0       0       0     0       0       0        0               0   \n",
      "1         0       0       0     0       0       0        0               0   \n",
      "2         0       0       0     0       0       0        0               0   \n",
      "3         0       0       0     0       0       0        0               0   \n",
      "4         0       0       0     0       0       0        0               0   \n",
      "\n",
      "   _poetry_  _science  ...  zane  zeal  zealand  zeb  zenobia  zitkala  \\\n",
      "0         0         0  ...     0     0        0    0        0        0   \n",
      "1         0         0  ...     0     0        0    0        0        0   \n",
      "2         0         0  ...     0     0        0    0        0        0   \n",
      "3         0         0  ...     0     0        0    0        0        0   \n",
      "4         0         0  ...     0     0        0    0        0        0   \n",
      "\n",
      "   zollinger  æneas  æneid  æsop  \n",
      "0          0      0      0     0  \n",
      "1          0      0      0     0  \n",
      "2          0      0      0     0  \n",
      "3          0      0      0     0  \n",
      "4          0      0      0     0  \n",
      "\n",
      "[5 rows x 4248 columns]\n"
     ]
    }
   ],
   "source": [
    "# reading the DataFrame \n",
    "df = pd.read_csv('bag_of_words.csv')\n",
    "\n",
    "# Print the first few rows of the DataFrame\n",
    "print(df.head())\n"
   ]
  },
  {
   "cell_type": "code",
   "execution_count": null,
   "metadata": {},
   "outputs": [],
   "source": []
  }
 ],
 "metadata": {
  "kernelspec": {
   "display_name": "Python 3 (ipykernel)",
   "language": "python",
   "name": "python3"
  },
  "language_info": {
   "codemirror_mode": {
    "name": "ipython",
    "version": 3
   },
   "file_extension": ".py",
   "mimetype": "text/x-python",
   "name": "python",
   "nbconvert_exporter": "python",
   "pygments_lexer": "ipython3",
   "version": "3.10.12"
  }
 },
 "nbformat": 4,
 "nbformat_minor": 4
}
